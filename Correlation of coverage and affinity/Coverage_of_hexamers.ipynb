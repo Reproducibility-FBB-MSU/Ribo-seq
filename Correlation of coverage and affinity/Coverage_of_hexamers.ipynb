{
 "cells": [
  {
   "cell_type": "markdown",
   "metadata": {},
   "source": [
    "**Создадим словарь с гексамерами**"
   ]
  },
  {
   "cell_type": "code",
   "execution_count": 5,
   "metadata": {
    "collapsed": true
   },
   "outputs": [],
   "source": [
    "hexa_dict = {}"
   ]
  },
  {
   "cell_type": "markdown",
   "metadata": {},
   "source": [
    "**Зададим функцию, которая построит комплементарную цепь** \n",
    "\n",
    "Цепь остается неперевернутой"
   ]
  },
  {
   "cell_type": "code",
   "execution_count": 6,
   "metadata": {
    "collapsed": true
   },
   "outputs": [],
   "source": [
    "def opposite(x): \n",
    "    op_dic = {'G': 'C', 'C': 'G', 'A': 'T', 'T': 'A'}\n",
    "    ans = ''\n",
    "    for let in x:\n",
    "        ans += str(op_dic.get(let)) \n",
    "    return ans"
   ]
  },
  {
   "cell_type": "markdown",
   "metadata": {},
   "source": [
    "**Функция, работающая с гексомерами**\n",
    "\n",
    "На вход получет:\n",
    "\n",
    "1) последовательность гена\n",
    "\n",
    "2) суммарное покрытие гена, нормированное на длину\n",
    "\n",
    "3) покрытие нуклеотидов в гене\n",
    "\n",
    "4) информацию о цепи, на которой расположен ген (плюс/минус)\n",
    "\n",
    "Покрытие гексомеров записывается в словарь"
   ]
  },
  {
   "cell_type": "code",
   "execution_count": 7,
   "metadata": {
    "collapsed": true
   },
   "outputs": [],
   "source": [
    "def hexa(seq, s, cov, sign): #функция, которая записывает наши гексомеры в словарь и в соответствие им ставит покрытине нормированное на покрытие гена (нормировано на длину)    \n",
    "    if sign == '+':\n",
    "        i = 0\n",
    "        while i < len(seq) - 5:\n",
    "        \n",
    "            hexomer = seq[i: i + 6]\n",
    "            try:\n",
    "                p = sum(cov[i + 23: i + 23 + 6])/s\n",
    "                if hexomer in hexa_dict:\n",
    "                    hexa_dict.get(hexomer).append(p)\n",
    "                else:\n",
    "                    hexa_dict[hexomer] = [p]\n",
    "            except:\n",
    "                if hexomer in hexa_dict:\n",
    "                    hexa_dict.get(hexomer).append(0)\n",
    "                else:\n",
    "                    hexa_dict[hexomer] = [0]\n",
    "            i += 1\n",
    "    if sign == '-':\n",
    "        i = len(seq)\n",
    "        while i > 5:\n",
    "            hexomer = seq[i- 6: i][::-1]\n",
    "            try:\n",
    "                p = sum(cov[i-6-23: i-23])/s\n",
    "                if hexomer in hexa_dict:\n",
    "                    hexa_dict.get(hexomer).append(p)\n",
    "                else:\n",
    "                    hexa_dict[hexomer] = [p]\n",
    "            except:\n",
    "                if hexomer in hexa_dict:\n",
    "                    hexa_dict.get(hexomer).append(0)\n",
    "                else:\n",
    "                    hexa_dict[hexomer] = [0]\n",
    "            i -= 1\n"
   ]
  },
  {
   "cell_type": "markdown",
   "metadata": {},
   "source": [
    "**Основная функция**\n",
    "\n",
    "На вход получает файлы с репликами плюс и минус цепей\n",
    "\n",
    "Использует файлы: последовательность генома, координаты генов\n",
    "\n",
    "Для этих файлов считает покрытие гексомеров с помощью функций выше"
   ]
  },
  {
   "cell_type": "code",
   "execution_count": 8,
   "metadata": {
    "collapsed": true
   },
   "outputs": [],
   "source": [
    "def programm(y, z):    \n",
    "    with open('511145_2.fasta', 'r') as genome: #читаем геном, так чтобы номера позиций соответствовали координатам, а не координатам -1\n",
    "        line = genome.readlines()\n",
    "        line1 = line[1:]\n",
    "        line2 = ['R']\n",
    "        for i in line1:\n",
    "            i = i.replace('\\n','')\n",
    "            line2.append(i)\n",
    "        genome_seq = \"\".join(line2)\n",
    "        anti_genome_seq = opposite(genome_seq)\n",
    "    \n",
    "    with open('coordinate.txt', 'r') as coord:\n",
    "        with open(y, 'r') as cover: #читаем файл с покрытием. Опять же, чтобы все соответствовало координатам\n",
    "            cover_genome = ['cover']\n",
    "            cover_file = cover.readlines()\n",
    "            cover_file = cover_file[2:]\n",
    "            cover_list = []\n",
    "            for i in cover_file:\n",
    "                i = i.replace('\\n', '')\n",
    "                cover_list.append(i)\n",
    "            cover_genome += cover_list #в переменной cover_genome содержится покрытие для каждой позиции, причем позиция соответствует номеру в списке\n",
    "            gene = coord.readlines()\n",
    "        with open(z, 'r') as minus:\n",
    "            cover_genome_anti = ['cover']\n",
    "            cover_file_min = minus.readlines()\n",
    "            cover_list_min = []\n",
    "            for i in cover_file_min:\n",
    "                i = i.replace('\\n', '')\n",
    "                cover_list_min.append(i)\n",
    "            cover_genome_anti += cover_list_min #в переменной cover_genome содержится покрытие для каждой позиции, причем позиция соответствует номеру в списке\n",
    "            gene_anti = coord.readlines()\n",
    "            m=0       \n",
    "        for line in gene: #проходимся по файлу с координатами. В зависимости от цепи применяем разную функцию для гексамеров.\n",
    "            line = line.replace('\\n','')\n",
    "            line = line.split()\n",
    "            start, end = int(line[0]), int(line[1])\n",
    "            if line[2] == '+':\n",
    "                cover_gene = cover_genome[start:end]\n",
    "                seq_gene = genome_seq[start:end]\n",
    "                cover_gene = list(map(float, cover_gene))\n",
    "                s = sum(cover_gene)/(end - start)\n",
    "            else:\n",
    "                cover_gene_min = cover_genome_anti[start:end]\n",
    "                seq_gene = anti_genome_seq[start:end]\n",
    "                cover_gene_min = list(map(float, cover_gene))\n",
    "                s = sum(cover_gene_min)/(end - start)\n",
    "            hexa(seq_gene, s, cover_gene, str(line[2]))"
   ]
  },
  {
   "cell_type": "markdown",
   "metadata": {},
   "source": [
    "Запуск подсчета покрытия гексомеров для трех реплик"
   ]
  },
  {
   "cell_type": "code",
   "execution_count": 9,
   "metadata": {
    "collapsed": true
   },
   "outputs": [],
   "source": [
    "programm('plus2.wig', 'minus2.wig')\n",
    "programm('plus.wig', 'minus.wig')\n",
    "programm('plus1.wig', 'minus1.wig')"
   ]
  },
  {
   "cell_type": "markdown",
   "metadata": {},
   "source": [
    "Запись покрытия гексомеров в файл"
   ]
  },
  {
   "cell_type": "code",
   "execution_count": null,
   "metadata": {
    "collapsed": true
   },
   "outputs": [],
   "source": [
    "with open('hexa_all2.txt', 'w') as hex2:\n",
    "    for hexa in hexa_dict:\n",
    "        hex2.write(str(hexa) + ' ' + str(sum(hexa_dict[hexa])/len(hexa_dict[hexa])) + '\\n')"
   ]
  }
 ],
 "metadata": {
  "kernelspec": {
   "display_name": "Python 3",
   "language": "python",
   "name": "python3"
  },
  "language_info": {
   "codemirror_mode": {
    "name": "ipython",
    "version": 3
   },
   "file_extension": ".py",
   "mimetype": "text/x-python",
   "name": "python",
   "nbconvert_exporter": "python",
   "pygments_lexer": "ipython3",
   "version": "3.6.3"
  }
 },
 "nbformat": 4,
 "nbformat_minor": 2
}
