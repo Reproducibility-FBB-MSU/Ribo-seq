{
 "cells": [
  {
   "cell_type": "markdown",
   "metadata": {},
   "source": [
    "# Получение координат генов"
   ]
  },
  {
   "cell_type": "markdown",
   "metadata": {},
   "source": [
    "С помощью данного скрипта получается файл, содержащий координаты генов. В дальнейших эти координаты используются для построения кросс корреляции и зависимости покрытия гексамеров внутри гена от их аффинности к последовательности Шайна - Дальгарно. \n",
    "\n",
    "На вход:\n",
    "\n",
    "    NC_000913_v2.gbk - файл с геномом в формате Genebank\n",
    "\n",
    "На выходе:\n",
    "\n",
    "    coordinate.txt - файл со списком координат CDS"
   ]
  },
  {
   "cell_type": "code",
   "execution_count": null,
   "metadata": {},
   "outputs": [],
   "source": [
    "from Bio import SeqIO\n",
    "\n",
    "def unwrap(inp):\n",
    "    return str(inp)[1:-4].replace(':', ' ') + ' ' + str(inp)[-2] + '\\n'\n",
    "    \n",
    "\n",
    "record = SeqIO.read(\"NC_000913_v2.gbk\", \"genbank\")\n",
    "for f in record.features:\n",
    "    if f.type == 'CDS':\n",
    "        if 'join' in str(f.location):\n",
    "            continue\n",
    "        else:\n",
    "            with open('coordinate.txt', 'a') as coord:\n",
    "                coord.write(unwrap(f.location))"
   ]
  }
 ],
 "metadata": {
  "kernelspec": {
   "display_name": "Python 3",
   "language": "python",
   "name": "python3"
  },
  "language_info": {
   "codemirror_mode": {
    "name": "ipython",
    "version": 3
   },
   "file_extension": ".py",
   "mimetype": "text/x-python",
   "name": "python",
   "nbconvert_exporter": "python",
   "pygments_lexer": "ipython3",
   "version": "3.6.4"
  }
 },
 "nbformat": 4,
 "nbformat_minor": 2
}
