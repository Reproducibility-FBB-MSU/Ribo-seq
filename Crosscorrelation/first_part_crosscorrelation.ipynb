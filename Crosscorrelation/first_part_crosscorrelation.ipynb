{
 "cells": [
  {
   "cell_type": "markdown",
   "metadata": {},
   "source": [
    "# Подготовка файлов для кросскорреляции"
   ]
  },
  {
   "cell_type": "markdown",
   "metadata": {},
   "source": [
    "Код, представленный ниже, используется для подсчета аффинностей гексамеров и их покрытия внутри каждого гена, отдельно ведутся подсчеты для прямой и обратной цепей.\n",
    "\n",
    "Входные файлы:\n",
    "\n",
    "511145_2.fasta - геном;\n",
    "\n",
    "    aff_table.txt - таблица аффинностей гексамеров;\n",
    "\n",
    "    plus.wig - покрытие прямой цепи;\n",
    "\n",
    "    minus.wig - покрытие обратной цепи;\n",
    "\n",
    "    coordinate.txt - координаты генов;\n",
    "\n",
    "Получаемые файлы:\n",
    "\n",
    "    affinity_all_FP1_plus_final.txt - аффинность по прямой цепи;\n",
    "\n",
    "    affinity_all_FP1_minus_final.txt - аффинность по обратной цепи;\n",
    "\n",
    "    coverage_all_FP1_plus_final.txt - покрытие по прямой цепи;\n",
    "\n",
    "    coverage_all_FP1_minus_final.txt - покрытие по обратной цепи;"
   ]
  },
  {
   "cell_type": "markdown",
   "metadata": {},
   "source": [
    "Основаная функция программы  - обработка гексамера. \n",
    "Функция принимает на вход сам гексамер, его начало и конец и переменную файла с покрытием.\n",
    "На выходе - покрытие гексамера (сумма покрытия всех нуклеотидов гексамера из исходного файла с покрытием), аффинносить гексамера (берется из таблицы)."
   ]
  },
  {
   "cell_type": "code",
   "execution_count": null,
   "metadata": {},
   "outputs": [],
   "source": [
    "def hexamer_processing(hex_seq, start, end, cover_file):#cover_file - список с покрытием каждой позиции.\n",
    "    if hex_seq in aff_dict:\n",
    "        affin = aff_dict[hex_seq]\n",
    "    else:\n",
    "        affin = 0\n",
    "    cover = sum(list(map(float, cover_file[int(start) - 1 : int(end)])))\n",
    "    return(affin, cover)"
   ]
  },
  {
   "cell_type": "markdown",
   "metadata": {},
   "source": [
    "Подготовка файлов для работы:"
   ]
  },
  {
   "cell_type": "code",
   "execution_count": null,
   "metadata": {},
   "outputs": [],
   "source": [
    "from Bio.Seq import Seq\n",
    "from Bio.Alphabet import IUPAC\n",
    "\n",
    "\n",
    "with open('511145_2.fasta') as genome: #помним, что координаты будут нужны со старта до конца вклчительно\n",
    "    line = genome.readlines()\n",
    "    line1 = line[1:]\n",
    "    line2 = []\n",
    "    for i in line1:\n",
    "        i = i.strip()\n",
    "        line2.append(i)\n",
    "    genome_seq = \"\".join(line2) #геном для работы с '+' генами\n",
    "    a = Seq(genome_seq, IUPAC.unambiguous_dna)\n",
    "    anti_genome_seq = str(a.reverse_complement()) #геном для работы с '-' генами\n",
    "    affinity_for = [0] * len(genome_seq)#список с аффинностями гексамеров (для каждого записывается на третьей позиции)\n",
    "    coverage_for = [0] * len(genome_seq)#список с покрытиями гексомеров (тоже на третьей позиции) - заполнится дальше\n",
    "    affinity_rev = [0] * len(genome_seq)#список с аффинностями гексамеров (для каждого записывается на третьей позиции)\n",
    "    coverage_rev = [0] * len(genome_seq)#список с покрытиями гексомеров (тоже на третьей позиции) - заполнится дальше\n",
    "\n",
    "with open(\"aff_table.txt\") as af_tab:\n",
    "    aff_dict = {}\n",
    "    lines = af_tab.readlines()\n",
    "    for item in lines:\n",
    "        aff_dict[item.split()[0]] = item.split()[1]\n",
    "\n",
    "with open('plus.wig') as cover: #читаем файл с покрытием прямой цепи\n",
    "    cover_f = cover.readlines()\n",
    "    cover_f = cover_f[2:]\n",
    "    cover_plus = []\n",
    "    for i in cover_f:\n",
    "        i = i.strip()\n",
    "        cover_plus.append(i)\n",
    "        \n",
    "with open('minus.wig') as cover: #читаем файл с покрытием обратной цепи\n",
    "    cover_f = cover.readlines()\n",
    "    cover_f = cover_f[2:]\n",
    "    cover_minus = []\n",
    "    for i in cover_f:\n",
    "        i = i.strip()\n",
    "        cover_minus.append(i)\n",
    "\n",
    "print(\"reading done\")"
   ]
  },
  {
   "cell_type": "markdown",
   "metadata": {},
   "source": [
    "Основная часть программы:"
   ]
  },
  {
   "cell_type": "code",
   "execution_count": null,
   "metadata": {},
   "outputs": [],
   "source": [
    "with open('coordinate.txt', 'r') as coord:\n",
    "    genes = coord.readlines()\n",
    "    for k,item in enumerate(genes):            \n",
    "        start, end = int(item.split()[0]), int(item.split()[1])\n",
    "        if k%100 == 0:\n",
    "            print(k)\n",
    "        if \"+\" in item:\n",
    "            current_gene = genome_seq[start: end] #теперь работаем с этим участком последовательности,\n",
    "            #обрабатываем гексамеры в нем     \n",
    "            c = 0 \n",
    "            while c < len(current_gene) - 5:\n",
    "                hexamer = current_gene[c: c + 6]\n",
    "                hex_affin, hex_cover = hexamer_processing(hexamer, start + c, start + c + 6, cover_plus)\n",
    "                    #а сейчас подсчет координаты третьего нуклеотида в гексомере\n",
    "                affinity_for[start + c + 3] = hex_affin\n",
    "                coverage_for[start + c + 3] = hex_cover\n",
    "                c += 1\n",
    "                    \n",
    "        if \"-\" in item:\n",
    "            start, end = len(anti_genome_seq) - end, len(anti_genome_seq) - start\n",
    "            current_gene = anti_genome_seq[start : end] #теперь работаем с этим участком последовательности,\n",
    "            #обрабатываем гексамеры в нем      \n",
    "            c = 0 \n",
    "            while c < len(current_gene) - 5:\n",
    "                hexamer = current_gene[c: c + 6]\n",
    "                hex_affin, hex_cover = hexamer_processing(hexamer, start + c, start + c + 6, cover_minus)\n",
    "                affinity_rev[start + c + 3] = hex_affin\n",
    "                coverage_rev[start + c + 3] = hex_cover\n",
    "                c += 1"
   ]
  },
  {
   "cell_type": "markdown",
   "metadata": {},
   "source": [
    "Запись данных в файлы:"
   ]
  },
  {
   "cell_type": "code",
   "execution_count": null,
   "metadata": {
    "collapsed": true
   },
   "outputs": [],
   "source": [
    "with open(\"affinity_all_FP1_plus_final.txt\", \"a\") as af:\n",
    "    for value in affinity_for:\n",
    "        af.write(str(value) + \"\\n\")\n",
    "with open(\"coverage_all_FP1_plus_final.txt\", \"a\") as co:\n",
    "    for value in coverage_for:\n",
    "        co.write(str(value) + \"\\n\")\n",
    "with open(\"affinity_all_FP1_minus_final.txt\", \"a\") as af:\n",
    "    for value in affinity_rev:\n",
    "        af.write(str(value) + \"\\n\")\n",
    "with open(\"coverage_all_FP1_minus_final.txt\", \"a\") as co:\n",
    "    for value in coverage_rev:\n",
    "        co.write(str(value) + \"\\n\")"
   ]
  }
 ],
 "metadata": {
  "kernelspec": {
   "display_name": "Python 3",
   "language": "python",
   "name": "python3"
  },
  "language_info": {
   "codemirror_mode": {
    "name": "ipython",
    "version": 3
   },
   "file_extension": ".py",
   "mimetype": "text/x-python",
   "name": "python",
   "nbconvert_exporter": "python",
   "pygments_lexer": "ipython3",
   "version": "3.6.4"
  }
 },
 "nbformat": 4,
 "nbformat_minor": 2
}
