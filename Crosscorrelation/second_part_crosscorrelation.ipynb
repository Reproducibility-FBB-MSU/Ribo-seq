{
 "cells": [
  {
   "cell_type": "code",
   "execution_count": 1,
   "metadata": {
    "collapsed": true
   },
   "outputs": [],
   "source": [
    "import numpy\n"
   ]
  },
  {
   "cell_type": "code",
   "execution_count": 26,
   "metadata": {
    "collapsed": true
   },
   "outputs": [],
   "source": [
    "#впишите сюда названия файлов\n",
    "aff_file = '../Python_project_ver2/affinity_all_FP1_plus_final.txt'\n",
    "cov_file = '../Python_project_ver2/coverage_all_FP1_plus_final.txt'"
   ]
  },
  {
   "cell_type": "code",
   "execution_count": 27,
   "metadata": {},
   "outputs": [
    {
     "name": "stdout",
     "output_type": "stream",
     "text": [
      "[ 0.  0.  0. ...,  0.  0.  0.]\n",
      "[ 0.  0.  0. ...,  0.  0.  0.]\n"
     ]
    }
   ],
   "source": [
    "aff_data = numpy.genfromtxt(aff_file, delimiter='\\n')\n",
    "cov_data = numpy.genfromtxt(cov_file, delimiter='\\n')\n",
    "print(aff_data)\n",
    "print(cov_data)\n",
    "aff_data = (aff_data - numpy.mean(aff_data)) / (numpy.std(aff_data) * len(aff_data)) #нормирую данные\n",
    "cov_data = (cov_data - numpy.mean(aff_data)) / numpy.std(aff_data) #нормирую данные"
   ]
  },
  {
   "cell_type": "code",
   "execution_count": 22,
   "metadata": {},
   "outputs": [
    {
     "name": "stdout",
     "output_type": "stream",
     "text": [
      "[-362820.42416971]\n"
     ]
    }
   ],
   "source": [
    "cor = numpy.correlate(aff_data, cov_data, mode='valid')#это корреляция без смещений\n",
    "print(cor)"
   ]
  },
  {
   "cell_type": "code",
   "execution_count": 23,
   "metadata": {
    "collapsed": true
   },
   "outputs": [],
   "source": [
    "from pycorrelate import ucorrelate #может ограничить рамку кросс-корреляции"
   ]
  },
  {
   "cell_type": "code",
   "execution_count": 24,
   "metadata": {},
   "outputs": [
    {
     "name": "stdout",
     "output_type": "stream",
     "text": [
      "[-373959, -388829, -394026, -393119, -392917, -397210, -435127, -480793, -519997, -534425, -550436, -564349, -564409, -522650, -468119, -427376, -421415, -408504, -391973, -383880, -376785, -375336, -376143, -381971, -392646, -405298, -424484, -436757, -444063, -442564, -430165, -416837, -400722, -377048, -363052, -353663, -343948, -336301, -319734, -307248, -304681, -312383, -331457, -352565, -372442, -397797, -422908, -442290, -449755, -449457]\n",
      "[-387533, -391424, -391883, -383850, -376442, -364288, -351824, -340815, -332054, -327727, -320908, -314400, -314808, -319625, -323376, -330049, -339291, -355955, -375902, -390434, -401841, -409978, -418535, -427345, -438093, -446465, -450220, -450397, -448033, -440442, -429971, -416742, -407532, -405166, -401036, -398761, -394654, -393067, -390437, -381629, -370433, -362262, -355819, -352665, -346108, -330358, -322980, -330159, -341198, -351141, -362820]\n",
      "[-387533, -391424, -391883, -383850, -376442, -364288, -351824, -340815, -332054, -327727, -320908, -314400, -314808, -319625, -323376, -330049, -339291, -355955, -375902, -390434, -401841, -409978, -418535, -427345, -438093, -446465, -450220, -450397, -448033, -440442, -429971, -416742, -407532, -405166, -401036, -398761, -394654, -393067, -390437, -381629, -370433, -362262, -355819, -352665, -346108, -330358, -322980, -330159, -341198, -351141, -362820, -373959, -388829, -394026, -393119, -392917, -397210, -435127, -480793, -519997, -534425, -550436, -564349, -564409, -522650, -468119, -427376, -421415, -408504, -391973, -383880, -376785, -375336, -376143, -381971, -392646, -405298, -424484, -436757, -444063, -442564, -430165, -416837, -400722, -377048, -363052, -353663, -343948, -336301, -319734, -307248, -304681, -312383, -331457, -352565, -372442, -397797, -422908, -442290, -449755, -449457]\n"
     ]
    }
   ],
   "source": [
    "cor_1 = ucorrelate(aff_data, cov_data, maxlag=51) #смещение относительно аффинности\n",
    "cor_1 = list(cor_1)\n",
    "cor_1.pop(0) #удаляю первый элемент - корреляция без смещения, тк присутствует во втором списке\n",
    "print(cor_1)\n",
    "cor_2 = ucorrelate(cov_data, aff_data, maxlag=51) #смещение отнсительно покрытия, нужно сделать ревёрс\n",
    "cor_2 = list(cor_2)\n",
    "cor_2.reverse()\n",
    "print(cor_2)\n",
    "cor = cor_2 + cor_1\n",
    "print(cor)"
   ]
  },
  {
   "cell_type": "code",
   "execution_count": 25,
   "metadata": {
    "collapsed": true
   },
   "outputs": [],
   "source": [
    "num = range(-50, 51)\n",
    "with open(\"cross_cor_FP1_plus.txt\", \"w\") as co:\n",
    "    for i in range(101):\n",
    "        co.write(str(num[i]) + \"\\t\" + str(cor[i]) + \"\\n\")"
   ]
  },
  {
   "cell_type": "code",
   "execution_count": 17,
   "metadata": {},
   "outputs": [
    {
     "name": "stdout",
     "output_type": "stream",
     "text": [
      "101\n"
     ]
    }
   ],
   "source": [
    "print(len(cor))"
   ]
  },
  {
   "cell_type": "code",
   "execution_count": null,
   "metadata": {
    "collapsed": true
   },
   "outputs": [],
   "source": []
  }
 ],
 "metadata": {
  "kernelspec": {
   "display_name": "Python 3",
   "language": "python",
   "name": "python3"
  },
  "language_info": {
   "codemirror_mode": {
    "name": "ipython",
    "version": 3
   },
   "file_extension": ".py",
   "mimetype": "text/x-python",
   "name": "python",
   "nbconvert_exporter": "python",
   "pygments_lexer": "ipython3",
   "version": "3.6.3"
  }
 },
 "nbformat": 4,
 "nbformat_minor": 2
}
