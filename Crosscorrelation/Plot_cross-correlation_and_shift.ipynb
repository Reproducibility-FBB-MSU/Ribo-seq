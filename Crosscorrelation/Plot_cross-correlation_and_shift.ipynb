{
 "cells": [
  {
   "cell_type": "markdown",
   "metadata": {
    "collapsed": true
   },
   "source": [
    "**Постоение графика зависимости кросс-корреляции от сдвига**"
   ]
  },
  {
   "cell_type": "code",
   "execution_count": null,
   "metadata": {
    "collapsed": true
   },
   "outputs": [],
   "source": [
    "from scipy.interpolate import interp1d\n",
    "import numpy as np\n",
    "import pandas as pd\n",
    "import matplotlib.pyplot as plt\n",
    "\n",
    "df = pd.read_csv(\"cross_cor.txt\", sep=\"\\t\", header=None)\n",
    "x = np.array(df[0])\n",
    "y = np.array(df[1])\n",
    "\n",
    "f = interp1d(x, y)\n",
    "f2 = interp1d(x, y, kind ='cubic')\n",
    "\n",
    "plt.plot(x, f2(x), '-')\n",
    "\n",
    "plt.xlabel('Сдвиг', size = 15)\n",
    "plt.ylabel(\"Кросс-корркляция\", size=15)\n",
    "plt.show()"
   ]
  }
 ],
 "metadata": {
  "kernelspec": {
   "display_name": "Python 3",
   "language": "python",
   "name": "python3"
  },
  "language_info": {
   "codemirror_mode": {
    "name": "ipython",
    "version": 3
   },
   "file_extension": ".py",
   "mimetype": "text/x-python",
   "name": "python",
   "nbconvert_exporter": "python",
   "pygments_lexer": "ipython3",
   "version": "3.6.3"
  }
 },
 "nbformat": 4,
 "nbformat_minor": 2
}
